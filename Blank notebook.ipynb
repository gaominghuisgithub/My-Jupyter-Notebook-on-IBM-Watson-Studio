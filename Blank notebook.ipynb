{
    "cells": [
        {
            "cell_type": "markdown",
            "metadata": {},
            "source": "# My Jupyter Notebook on IBM Watson Studio"
        },
        {
            "cell_type": "markdown",
            "metadata": {},
            "source": "**Liu Zhongjing**\n* History\n* Data Science for Zhuxia"
        },
        {
            "cell_type": "markdown",
            "metadata": {},
            "source": "*I am interested in data science because I think data science is promising and will create huge benefits*"
        },
        {
            "cell_type": "markdown",
            "metadata": {},
            "source": "### This is to run an arithmetic expression as an elementary school kid knows"
        },
        {
            "cell_type": "code",
            "execution_count": 5,
            "metadata": {},
            "outputs": [
                {
                    "data": {
                        "text/plain": "7.0"
                    },
                    "execution_count": 5,
                    "metadata": {},
                    "output_type": "execute_result"
                }
            ],
            "source": "(1+2+3+4+5+6)/(1+2)"
        },
        {
            "cell_type": "markdown",
            "metadata": {},
            "source": "#### Country Information\n|Country|Capital|Population (Million)|\n|------|------|------|\n|USA|Washington, DC|1|\n|UK|London|4|\n|India|New Delhi|20|\n\n#### Tools for Woodwork\n* Table saw\n* Chisel\n* Screw driver\n\n#### Favorite Drinks\n1. Diet Coke\n2. Moon shine\n3. Coffee\n4. Beer\n\n#### Zhuxia\nZhuxia.![http://zhuxia.com/web/map_frame_computer.html]\n\n#### LOGO\n[http://zhuxia.com/web/index_mz.html?id=100]"
        }
    ],
    "metadata": {
        "kernelspec": {
            "display_name": "Python 3.10",
            "language": "python",
            "name": "python3"
        },
        "language_info": {
            "codemirror_mode": {
                "name": "ipython",
                "version": 3
            },
            "file_extension": ".py",
            "mimetype": "text/x-python",
            "name": "python",
            "nbconvert_exporter": "python",
            "pygments_lexer": "ipython3",
            "version": "3.10.13"
        }
    },
    "nbformat": 4,
    "nbformat_minor": 1
}